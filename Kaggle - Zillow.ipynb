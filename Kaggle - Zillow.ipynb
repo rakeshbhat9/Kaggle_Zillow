{
 "cells": [
  {
   "cell_type": "markdown",
   "metadata": {},
   "source": [
    "#                     Zillow’s Home Value Prediction (Zestimate)"
   ]
  },
  {
   "cell_type": "code",
   "execution_count": 1,
   "metadata": {
    "collapsed": false
   },
   "outputs": [],
   "source": [
    "import pandas as pd\n",
    "%matplotlib inline"
   ]
  },
  {
   "cell_type": "code",
   "execution_count": 2,
   "metadata": {
    "collapsed": false
   },
   "outputs": [
    {
     "name": "stderr",
     "output_type": "stream",
     "text": [
      "/Users/rakesh/Library/Python/2.7/lib/python/site-packages/IPython/core/interactiveshell.py:2717: DtypeWarning: Columns (22,32,34,49,55) have mixed types. Specify dtype option on import or set low_memory=False.\n",
      "  interactivity=interactivity, compiler=compiler, result=result)\n"
     ]
    }
   ],
   "source": [
    "prop = pd.read_csv('properties_2016.csv')"
   ]
  },
  {
   "cell_type": "code",
   "execution_count": 3,
   "metadata": {
    "collapsed": false
   },
   "outputs": [
    {
     "name": "stdout",
     "output_type": "stream",
     "text": [
      "<class 'pandas.core.frame.DataFrame'>\n",
      "RangeIndex: 2985217 entries, 0 to 2985216\n",
      "Data columns (total 58 columns):\n",
      "parcelid                        int64\n",
      "airconditioningtypeid           float64\n",
      "architecturalstyletypeid        float64\n",
      "basementsqft                    float64\n",
      "bathroomcnt                     float64\n",
      "bedroomcnt                      float64\n",
      "buildingclasstypeid             float64\n",
      "buildingqualitytypeid           float64\n",
      "calculatedbathnbr               float64\n",
      "decktypeid                      float64\n",
      "finishedfloor1squarefeet        float64\n",
      "calculatedfinishedsquarefeet    float64\n",
      "finishedsquarefeet12            float64\n",
      "finishedsquarefeet13            float64\n",
      "finishedsquarefeet15            float64\n",
      "finishedsquarefeet50            float64\n",
      "finishedsquarefeet6             float64\n",
      "fips                            float64\n",
      "fireplacecnt                    float64\n",
      "fullbathcnt                     float64\n",
      "garagecarcnt                    float64\n",
      "garagetotalsqft                 float64\n",
      "hashottuborspa                  object\n",
      "heatingorsystemtypeid           float64\n",
      "latitude                        float64\n",
      "longitude                       float64\n",
      "lotsizesquarefeet               float64\n",
      "poolcnt                         float64\n",
      "poolsizesum                     float64\n",
      "pooltypeid10                    float64\n",
      "pooltypeid2                     float64\n",
      "pooltypeid7                     float64\n",
      "propertycountylandusecode       object\n",
      "propertylandusetypeid           float64\n",
      "propertyzoningdesc              object\n",
      "rawcensustractandblock          float64\n",
      "regionidcity                    float64\n",
      "regionidcounty                  float64\n",
      "regionidneighborhood            float64\n",
      "regionidzip                     float64\n",
      "roomcnt                         float64\n",
      "storytypeid                     float64\n",
      "threequarterbathnbr             float64\n",
      "typeconstructiontypeid          float64\n",
      "unitcnt                         float64\n",
      "yardbuildingsqft17              float64\n",
      "yardbuildingsqft26              float64\n",
      "yearbuilt                       float64\n",
      "numberofstories                 float64\n",
      "fireplaceflag                   object\n",
      "structuretaxvaluedollarcnt      float64\n",
      "taxvaluedollarcnt               float64\n",
      "assessmentyear                  float64\n",
      "landtaxvaluedollarcnt           float64\n",
      "taxamount                       float64\n",
      "taxdelinquencyflag              object\n",
      "taxdelinquencyyear              float64\n",
      "censustractandblock             float64\n",
      "dtypes: float64(52), int64(1), object(5)\n",
      "memory usage: 1.3+ GB\n"
     ]
    },
    {
     "data": {
      "text/html": [
       "<div>\n",
       "<table border=\"1\" class=\"dataframe\">\n",
       "  <thead>\n",
       "    <tr style=\"text-align: right;\">\n",
       "      <th></th>\n",
       "      <th>parcelid</th>\n",
       "      <th>airconditioningtypeid</th>\n",
       "      <th>architecturalstyletypeid</th>\n",
       "      <th>basementsqft</th>\n",
       "      <th>bathroomcnt</th>\n",
       "      <th>bedroomcnt</th>\n",
       "      <th>buildingclasstypeid</th>\n",
       "      <th>buildingqualitytypeid</th>\n",
       "      <th>calculatedbathnbr</th>\n",
       "      <th>decktypeid</th>\n",
       "      <th>...</th>\n",
       "      <th>numberofstories</th>\n",
       "      <th>fireplaceflag</th>\n",
       "      <th>structuretaxvaluedollarcnt</th>\n",
       "      <th>taxvaluedollarcnt</th>\n",
       "      <th>assessmentyear</th>\n",
       "      <th>landtaxvaluedollarcnt</th>\n",
       "      <th>taxamount</th>\n",
       "      <th>taxdelinquencyflag</th>\n",
       "      <th>taxdelinquencyyear</th>\n",
       "      <th>censustractandblock</th>\n",
       "    </tr>\n",
       "  </thead>\n",
       "  <tbody>\n",
       "    <tr>\n",
       "      <th>0</th>\n",
       "      <td>10754147</td>\n",
       "      <td>NaN</td>\n",
       "      <td>NaN</td>\n",
       "      <td>NaN</td>\n",
       "      <td>0.0</td>\n",
       "      <td>0.0</td>\n",
       "      <td>NaN</td>\n",
       "      <td>NaN</td>\n",
       "      <td>NaN</td>\n",
       "      <td>NaN</td>\n",
       "      <td>...</td>\n",
       "      <td>NaN</td>\n",
       "      <td>NaN</td>\n",
       "      <td>NaN</td>\n",
       "      <td>9.0</td>\n",
       "      <td>2015.0</td>\n",
       "      <td>9.0</td>\n",
       "      <td>NaN</td>\n",
       "      <td>NaN</td>\n",
       "      <td>NaN</td>\n",
       "      <td>NaN</td>\n",
       "    </tr>\n",
       "    <tr>\n",
       "      <th>1</th>\n",
       "      <td>10759547</td>\n",
       "      <td>NaN</td>\n",
       "      <td>NaN</td>\n",
       "      <td>NaN</td>\n",
       "      <td>0.0</td>\n",
       "      <td>0.0</td>\n",
       "      <td>NaN</td>\n",
       "      <td>NaN</td>\n",
       "      <td>NaN</td>\n",
       "      <td>NaN</td>\n",
       "      <td>...</td>\n",
       "      <td>NaN</td>\n",
       "      <td>NaN</td>\n",
       "      <td>NaN</td>\n",
       "      <td>27516.0</td>\n",
       "      <td>2015.0</td>\n",
       "      <td>27516.0</td>\n",
       "      <td>NaN</td>\n",
       "      <td>NaN</td>\n",
       "      <td>NaN</td>\n",
       "      <td>NaN</td>\n",
       "    </tr>\n",
       "    <tr>\n",
       "      <th>2</th>\n",
       "      <td>10843547</td>\n",
       "      <td>NaN</td>\n",
       "      <td>NaN</td>\n",
       "      <td>NaN</td>\n",
       "      <td>0.0</td>\n",
       "      <td>0.0</td>\n",
       "      <td>NaN</td>\n",
       "      <td>NaN</td>\n",
       "      <td>NaN</td>\n",
       "      <td>NaN</td>\n",
       "      <td>...</td>\n",
       "      <td>NaN</td>\n",
       "      <td>NaN</td>\n",
       "      <td>650756.0</td>\n",
       "      <td>1413387.0</td>\n",
       "      <td>2015.0</td>\n",
       "      <td>762631.0</td>\n",
       "      <td>20800.37</td>\n",
       "      <td>NaN</td>\n",
       "      <td>NaN</td>\n",
       "      <td>NaN</td>\n",
       "    </tr>\n",
       "    <tr>\n",
       "      <th>3</th>\n",
       "      <td>10859147</td>\n",
       "      <td>NaN</td>\n",
       "      <td>NaN</td>\n",
       "      <td>NaN</td>\n",
       "      <td>0.0</td>\n",
       "      <td>0.0</td>\n",
       "      <td>3.0</td>\n",
       "      <td>7.0</td>\n",
       "      <td>NaN</td>\n",
       "      <td>NaN</td>\n",
       "      <td>...</td>\n",
       "      <td>1.0</td>\n",
       "      <td>NaN</td>\n",
       "      <td>571346.0</td>\n",
       "      <td>1156834.0</td>\n",
       "      <td>2015.0</td>\n",
       "      <td>585488.0</td>\n",
       "      <td>14557.57</td>\n",
       "      <td>NaN</td>\n",
       "      <td>NaN</td>\n",
       "      <td>NaN</td>\n",
       "    </tr>\n",
       "    <tr>\n",
       "      <th>4</th>\n",
       "      <td>10879947</td>\n",
       "      <td>NaN</td>\n",
       "      <td>NaN</td>\n",
       "      <td>NaN</td>\n",
       "      <td>0.0</td>\n",
       "      <td>0.0</td>\n",
       "      <td>4.0</td>\n",
       "      <td>NaN</td>\n",
       "      <td>NaN</td>\n",
       "      <td>NaN</td>\n",
       "      <td>...</td>\n",
       "      <td>NaN</td>\n",
       "      <td>NaN</td>\n",
       "      <td>193796.0</td>\n",
       "      <td>433491.0</td>\n",
       "      <td>2015.0</td>\n",
       "      <td>239695.0</td>\n",
       "      <td>5725.17</td>\n",
       "      <td>NaN</td>\n",
       "      <td>NaN</td>\n",
       "      <td>NaN</td>\n",
       "    </tr>\n",
       "  </tbody>\n",
       "</table>\n",
       "<p>5 rows × 58 columns</p>\n",
       "</div>"
      ],
      "text/plain": [
       "   parcelid  airconditioningtypeid  architecturalstyletypeid  basementsqft  \\\n",
       "0  10754147                    NaN                       NaN           NaN   \n",
       "1  10759547                    NaN                       NaN           NaN   \n",
       "2  10843547                    NaN                       NaN           NaN   \n",
       "3  10859147                    NaN                       NaN           NaN   \n",
       "4  10879947                    NaN                       NaN           NaN   \n",
       "\n",
       "   bathroomcnt  bedroomcnt  buildingclasstypeid  buildingqualitytypeid  \\\n",
       "0          0.0         0.0                  NaN                    NaN   \n",
       "1          0.0         0.0                  NaN                    NaN   \n",
       "2          0.0         0.0                  NaN                    NaN   \n",
       "3          0.0         0.0                  3.0                    7.0   \n",
       "4          0.0         0.0                  4.0                    NaN   \n",
       "\n",
       "   calculatedbathnbr  decktypeid         ...           numberofstories  \\\n",
       "0                NaN         NaN         ...                       NaN   \n",
       "1                NaN         NaN         ...                       NaN   \n",
       "2                NaN         NaN         ...                       NaN   \n",
       "3                NaN         NaN         ...                       1.0   \n",
       "4                NaN         NaN         ...                       NaN   \n",
       "\n",
       "   fireplaceflag  structuretaxvaluedollarcnt  taxvaluedollarcnt  \\\n",
       "0            NaN                         NaN                9.0   \n",
       "1            NaN                         NaN            27516.0   \n",
       "2            NaN                    650756.0          1413387.0   \n",
       "3            NaN                    571346.0          1156834.0   \n",
       "4            NaN                    193796.0           433491.0   \n",
       "\n",
       "   assessmentyear  landtaxvaluedollarcnt  taxamount  taxdelinquencyflag  \\\n",
       "0          2015.0                    9.0        NaN                 NaN   \n",
       "1          2015.0                27516.0        NaN                 NaN   \n",
       "2          2015.0               762631.0   20800.37                 NaN   \n",
       "3          2015.0               585488.0   14557.57                 NaN   \n",
       "4          2015.0               239695.0    5725.17                 NaN   \n",
       "\n",
       "   taxdelinquencyyear  censustractandblock  \n",
       "0                 NaN                  NaN  \n",
       "1                 NaN                  NaN  \n",
       "2                 NaN                  NaN  \n",
       "3                 NaN                  NaN  \n",
       "4                 NaN                  NaN  \n",
       "\n",
       "[5 rows x 58 columns]"
      ]
     },
     "execution_count": 3,
     "metadata": {},
     "output_type": "execute_result"
    }
   ],
   "source": [
    "prop.info()\n",
    "prop.head()"
   ]
  },
  {
   "cell_type": "code",
   "execution_count": 4,
   "metadata": {
    "collapsed": false
   },
   "outputs": [],
   "source": [
    "int_features = []\n",
    "obj_features = []"
   ]
  },
  {
   "cell_type": "code",
   "execution_count": 5,
   "metadata": {
    "collapsed": true
   },
   "outputs": [],
   "source": [
    "for i in prop.columns:\n",
    "    if prop[i].dtype == float or prop[i].dtype == int:\n",
    "        int_features.append(i)\n",
    "    else:\n",
    "        obj_features.append(i)"
   ]
  },
  {
   "cell_type": "code",
   "execution_count": 6,
   "metadata": {
    "collapsed": false
   },
   "outputs": [
    {
     "name": "stdout",
     "output_type": "stream",
     "text": [
      "['hashottuborspa', 'propertycountylandusecode', 'propertyzoningdesc', 'fireplaceflag', 'taxdelinquencyflag']\n"
     ]
    }
   ],
   "source": [
    "print obj_features"
   ]
  },
  {
   "cell_type": "code",
   "execution_count": 7,
   "metadata": {
    "collapsed": false
   },
   "outputs": [
    {
     "name": "stdout",
     "output_type": "stream",
     "text": [
      "hashottuborspa [nan True]\n",
      "propertycountylandusecode ['010D' '0109' '1200' '1210' '010V' '300V' '0100' '0200' '010C' '0300'\n",
      " '1204' '100V' '01HC' '120C' '040V' '1214' '0101' nan '070P' '0700' '1'\n",
      " '128' '0' '1112' '5050' '1110' '1118' '010E' '1111' '1129' '1420' '1222'\n",
      " '1128' '1310' '1117' '1333' '1116' '1410' '0104' '070D' '0108' '012C'\n",
      " '0400' '0103' '01DC' '0201' '010M' '030V' '0110' '010F' '010G' '010H'\n",
      " '0301' '0102' '020E' '020M' '0401' '0113' '0141' '122' '38' '135' '96'\n",
      " '71' '73' '34' '0209' '040G' '010L' '012E' '0111' '1720' '1014' '012D'\n",
      " '1213' '1201' '1321' '1444' '1421' '0140' '0123' '0133' '020G' '030G'\n",
      " '105' '0204' '010T' '0120' '1202' '121G' '010X' '020V' '880V' '1120'\n",
      " '0130' '0118' '01HE' '120G' '5060' '0131' '0203' '011C' '1215' '1212'\n",
      " '040D' '120T' '0420' '8' '1203' '070X' '0114' '030E' '121T' '1012' '121C'\n",
      " '0105' '5' '020C' '0106' '040B' '10E' '1216' '3' '0121' '1722' '1432'\n",
      " '1119' '9000' '103' '6050' '8800' '0304' '0303' '172C' '1011' '070V'\n",
      " '0309' '030C' '1211' '020X' '84' '070L' '12TO' '121L' '0701' '1218' '0720'\n",
      " '101' '070G' '0600' '12T0' '01DD' '0409' '302C' '0410' '01DG' '4101'\n",
      " '0202' '0710' '7500' '010' '0310' '0115' '1723' '0711' '0220' '014D'\n",
      " '030L' '10G' '07M' '0450' '0230' '0208' '201' '030D' '590V' '2' '104'\n",
      " '0210' '121O' '91' '121*' '0402' '1205' '010Y' '36' '10C' '9100' '0741'\n",
      " '172G' '1181' '2003' '12T2' '0403' '200' '0305' '01T0' '070M' '012G'\n",
      " '1206' '8830' '030A' '4400' '7301' '1208' '01DE' '7842' '0404' '040A'\n",
      " '0320' '1002' '020A' '02G0' '1724' '0122' '04TO' '1217' '7200' '0730' '4'\n",
      " '2700' '76' '071P' '1820' '0134' '1013' '5900' '020D' 'SFR' '0132' '01C'\n",
      " '0308' '7100' '121X' '0231' '03TO' '030B' '01MC' '12T4' '5011' '3414']\n",
      "propertyzoningdesc [nan 'LCA11*' 'LAC2' ..., 'WCR1400000' 'EMPYYY' 'RMM2*']\n",
      "fireplaceflag [nan True]\n",
      "taxdelinquencyflag [nan 'Y']\n"
     ]
    }
   ],
   "source": [
    "for i in obj_features:\n",
    "    print i, prop[i].unique()"
   ]
  },
  {
   "cell_type": "code",
   "execution_count": 8,
   "metadata": {
    "collapsed": false
   },
   "outputs": [],
   "source": [
    "#propertycountylandusecode,propertyzoningdesc appear to not have any values to \n",
    "#impact the model hence removing these from the data.\n",
    "prop = prop.drop(['propertycountylandusecode','propertyzoningdesc'], axis=1)"
   ]
  },
  {
   "cell_type": "code",
   "execution_count": 9,
   "metadata": {
    "collapsed": false
   },
   "outputs": [],
   "source": [
    "def con_obj_to_binary(df,col):\n",
    "    df[col].fillna(0, inplace = True)\n",
    "    if df[col].unique()[1] == 'Y':\n",
    "        df[col].replace(to_replace = 'Y',value = 1, inplace= True)\n",
    "        print col, df[col].unique()\n",
    "    else:\n",
    "        df[col].replace(to_replace = True,value = 1, inplace= True)\n",
    "        print col, df[col].unique()"
   ]
  },
  {
   "cell_type": "code",
   "execution_count": 10,
   "metadata": {
    "collapsed": false,
    "scrolled": true
   },
   "outputs": [
    {
     "name": "stdout",
     "output_type": "stream",
     "text": [
      "taxdelinquencyflag [0 1]\n",
      "fireplaceflag [0 1]\n",
      "hashottuborspa [0 1]\n"
     ]
    }
   ],
   "source": [
    "con_obj_to_binary(prop,'taxdelinquencyflag')\n",
    "con_obj_to_binary(prop,'fireplaceflag')\n",
    "con_obj_to_binary(prop,'hashottuborspa')"
   ]
  },
  {
   "cell_type": "code",
   "execution_count": 13,
   "metadata": {
    "collapsed": false
   },
   "outputs": [
    {
     "data": {
      "text/plain": [
       "['parcelid',\n",
       " 'airconditioningtypeid',\n",
       " 'architecturalstyletypeid',\n",
       " 'basementsqft',\n",
       " 'bathroomcnt',\n",
       " 'bedroomcnt',\n",
       " 'buildingclasstypeid',\n",
       " 'buildingqualitytypeid',\n",
       " 'calculatedbathnbr',\n",
       " 'decktypeid',\n",
       " 'finishedfloor1squarefeet',\n",
       " 'calculatedfinishedsquarefeet',\n",
       " 'finishedsquarefeet12',\n",
       " 'finishedsquarefeet13',\n",
       " 'finishedsquarefeet15',\n",
       " 'finishedsquarefeet50',\n",
       " 'finishedsquarefeet6',\n",
       " 'fips',\n",
       " 'fireplacecnt',\n",
       " 'fullbathcnt',\n",
       " 'garagecarcnt',\n",
       " 'garagetotalsqft',\n",
       " 'heatingorsystemtypeid',\n",
       " 'latitude',\n",
       " 'longitude',\n",
       " 'lotsizesquarefeet',\n",
       " 'poolcnt',\n",
       " 'poolsizesum',\n",
       " 'pooltypeid10',\n",
       " 'pooltypeid2',\n",
       " 'pooltypeid7',\n",
       " 'propertylandusetypeid',\n",
       " 'rawcensustractandblock',\n",
       " 'regionidcity',\n",
       " 'regionidcounty',\n",
       " 'regionidneighborhood',\n",
       " 'regionidzip',\n",
       " 'roomcnt',\n",
       " 'storytypeid',\n",
       " 'threequarterbathnbr',\n",
       " 'typeconstructiontypeid',\n",
       " 'unitcnt',\n",
       " 'yardbuildingsqft17',\n",
       " 'yardbuildingsqft26',\n",
       " 'yearbuilt',\n",
       " 'numberofstories',\n",
       " 'structuretaxvaluedollarcnt',\n",
       " 'taxvaluedollarcnt',\n",
       " 'assessmentyear',\n",
       " 'landtaxvaluedollarcnt',\n",
       " 'taxamount',\n",
       " 'taxdelinquencyyear',\n",
       " 'censustractandblock']"
      ]
     },
     "execution_count": 13,
     "metadata": {},
     "output_type": "execute_result"
    }
   ],
   "source": [
    "int_features"
   ]
  },
  {
   "cell_type": "markdown",
   "metadata": {},
   "source": [
    "Break down int features further."
   ]
  },
  {
   "cell_type": "code",
   "execution_count": 14,
   "metadata": {
    "collapsed": false,
    "scrolled": true
   },
   "outputs": [
    {
     "data": {
      "text/plain": [
       "[('parcelid', 2985217, 2985217, 0.0, False),\n",
       " ('airconditioningtypeid', 8, 811519, 0.7281541006901676, False),\n",
       " ('architecturalstyletypeid', 9, 6061, 0.9979696618369787, True),\n",
       " ('buildingclasstypeid', 6, 12629, 0.9957694867743283, True),\n",
       " ('buildingqualitytypeid', 13, 1938488, 0.3506374913448503, False),\n",
       " ('decktypeid', 2, 17096, 0.9942731131438686, True),\n",
       " ('heatingorsystemtypeid', 15, 1806401, 0.39488452598253326, False),\n",
       " ('pooltypeid10', 2, 36939, 0.9876260251767291, True),\n",
       " ('pooltypeid2', 2, 32075, 0.9892553874642949, True),\n",
       " ('pooltypeid7', 2, 485459, 0.8373789912090143, False),\n",
       " ('propertylandusetypeid', 16, 2973780, 0.0038312122703307665, False),\n",
       " ('regionidcity', 187, 2922372, 0.0210520709214774, False),\n",
       " ('regionidcounty', 4, 2973780, 0.0038312122703307665, False),\n",
       " ('regionidneighborhood', 529, 1156402, 0.6126238059075773, False),\n",
       " ('regionidzip', 406, 2971237, 0.004683076640659624, False),\n",
       " ('storytypeid', 2, 1624, 0.9994559859467502, True),\n",
       " ('typeconstructiontypeid', 6, 6747, 0.9977398627972439, True)]"
      ]
     },
     "execution_count": 14,
     "metadata": {},
     "output_type": "execute_result"
    }
   ],
   "source": [
    "# Length of unique values in features should give us an idea whether we need to simply fill nans to 0s OR \n",
    "# fill them with mean\n",
    "[(i,len(prop[i].unique()),prop[i].count(),float(len(prop)-prop[i].count())/len(prop),\n",
    "float(len(prop)-prop[i].count())/len(prop)>0.9)for i in int_features if 'id' in i]"
   ]
  },
  {
   "cell_type": "code",
   "execution_count": 15,
   "metadata": {
    "collapsed": false
   },
   "outputs": [
    {
     "data": {
      "text/plain": [
       "[('basementsqft', 752, 1628, 0.9994546460106585, True),\n",
       " ('bathroomcnt', 38, 2973755, 0.0038395868709041924, False),\n",
       " ('bedroomcnt', 22, 2973767, 0.003835567062628948, False),\n",
       " ('calculatedbathnbr', 35, 2856305, 0.0431834603648579, False),\n",
       " ('finishedfloor1squarefeet', 4605, 202717, 0.9320930438222749, True),\n",
       " ('calculatedfinishedsquarefeet', 12588, 2929652, 0.018613387234495852, False),\n",
       " ('finishedsquarefeet12', 10671, 2709184, 0.0924666448033761, False),\n",
       " ('finishedsquarefeet13', 251, 7672, 0.9974300025760271, True),\n",
       " ('finishedsquarefeet15', 8817, 190798, 0.9360857183916613, True),\n",
       " ('finishedsquarefeet50', 4803, 202717, 0.9320930438222749, True),\n",
       " ('finishedsquarefeet6', 4252, 22001, 0.9926300165113625, True),\n",
       " ('fips', 4, 2973780, 0.0038312122703307665, False),\n",
       " ('fireplacecnt', 10, 312637, 0.895271600021037, False),\n",
       " ('fullbathcnt', 21, 2856305, 0.0431834603648579, False),\n",
       " ('garagecarcnt', 25, 883267, 0.7041196670124819, False),\n",
       " ('garagetotalsqft', 2241, 883267, 0.7041196670124819, False),\n",
       " ('latitude', 852326, 2973780, 0.0038312122703307665, False),\n",
       " ('longitude', 1042551, 2973780, 0.0038312122703307665, False),\n",
       " ('lotsizesquarefeet', 69954, 2709118, 0.09248875374888994, False),\n",
       " ('poolcnt', 2, 517534, 0.8266343786733091, False),\n",
       " ('poolsizesum', 908, 27960, 0.9906338467186807, True),\n",
       " ('rawcensustractandblock', 99394, 2973780, 0.0038312122703307665, False),\n",
       " ('roomcnt', 37, 2973742, 0.0038439416632023737, False),\n",
       " ('threequarterbathnbr', 8, 311631, 0.8956085939481117, False),\n",
       " ('unitcnt', 147, 1977490, 0.3375724444822604, False),\n",
       " ('yardbuildingsqft17', 1637, 80355, 0.9730823588368953, True),\n",
       " ('yardbuildingsqft26', 595, 2647, 0.9991132972912857, True),\n",
       " ('yearbuilt', 169, 2925289, 0.020074922526570095, False),\n",
       " ('numberofstories', 13, 682069, 0.7715177824593656, False),\n",
       " ('structuretaxvaluedollarcnt', 426151, 2930235, 0.018418091549123564, False),\n",
       " ('taxvaluedollarcnt', 638921, 2942667, 0.014253570175970457, False),\n",
       " ('assessmentyear', 15, 2973778, 0.0038318822383766405, False),\n",
       " ('landtaxvaluedollarcnt', 531409, 2917484, 0.022689472825593582, False),\n",
       " ('taxamount', 1045758, 2953967, 0.010468250716782063, False),\n",
       " ('taxdelinquencyyear', 33, 56464, 0.9810854621288838, True),\n",
       " ('censustractandblock', 96772, 2910091, 0.025166009707167016, False)]"
      ]
     },
     "execution_count": 15,
     "metadata": {},
     "output_type": "execute_result"
    }
   ],
   "source": [
    "[(i,len(prop[i].unique()),prop[i].count(),float(len(prop)-prop[i].count())/len(prop),\n",
    "float(len(prop)-prop[i].count())/len(prop)>0.9)for i in int_features if 'id' not in i]"
   ]
  },
  {
   "cell_type": "code",
   "execution_count": 16,
   "metadata": {
    "collapsed": true
   },
   "outputs": [],
   "source": [
    "def drop_unwanted_cols(df):\n",
    "    \"\"\"\n",
    "    If a column is not an id OR in other words cannot be binarized\n",
    "    AND\n",
    "    If is nan for more than 50% \n",
    "    we would rather remove these.\n",
    "    \"\"\"\n",
    "    dropped_cols = []\n",
    "    for i in int_features:\n",
    "        if 'id' not in i:\n",
    "            if float(len(df)-df[i].count())/len(df)>0.7:\n",
    "                df.drop(i, axis=1,inplace= True)\n",
    "                dropped_cols.append(i)\n",
    "    return dropped_cols\n",
    "\n",
    "#Need to further split int_features, when running this as is, 'cnt' features are getting dropped which we\n",
    "# should be able to fill using min/median/mode."
   ]
  },
  {
   "cell_type": "code",
   "execution_count": 16,
   "metadata": {
    "collapsed": false
   },
   "outputs": [
    {
     "name": "stdout",
     "output_type": "stream",
     "text": [
      "22  Int/Float non-id Columns dropped 36  below are now remaining\n"
     ]
    },
    {
     "data": {
      "text/plain": [
       "Index([u'parcelid', u'airconditioningtypeid', u'architecturalstyletypeid',\n",
       "       u'basementsqft', u'buildingclasstypeid', u'buildingqualitytypeid',\n",
       "       u'decktypeid', u'finishedfloor1squarefeet', u'finishedsquarefeet13',\n",
       "       u'finishedsquarefeet15', u'finishedsquarefeet50',\n",
       "       u'finishedsquarefeet6', u'fireplacecnt', u'garagecarcnt',\n",
       "       u'garagetotalsqft', u'hashottuborspa', u'heatingorsystemtypeid',\n",
       "       u'poolcnt', u'poolsizesum', u'pooltypeid10', u'pooltypeid2',\n",
       "       u'pooltypeid7', u'propertylandusetypeid', u'regionidcity',\n",
       "       u'regionidcounty', u'regionidneighborhood', u'regionidzip',\n",
       "       u'storytypeid', u'threequarterbathnbr', u'typeconstructiontypeid',\n",
       "       u'yardbuildingsqft17', u'yardbuildingsqft26', u'numberofstories',\n",
       "       u'fireplaceflag', u'taxdelinquencyflag', u'taxdelinquencyyear'],\n",
       "      dtype='object')"
      ]
     },
     "execution_count": 16,
     "metadata": {},
     "output_type": "execute_result"
    }
   ],
   "source": [
    "print 58 - len(prop.columns),\" Int/Float non-id Columns dropped\", len(prop.columns),\" below are now remaining\"\n",
    "prop.columns"
   ]
  }
 ],
 "metadata": {
  "kernelspec": {
   "display_name": "Python 2",
   "language": "python",
   "name": "python2"
  },
  "language_info": {
   "codemirror_mode": {
    "name": "ipython",
    "version": 2
   },
   "file_extension": ".py",
   "mimetype": "text/x-python",
   "name": "python",
   "nbconvert_exporter": "python",
   "pygments_lexer": "ipython2",
   "version": "2.7.10"
  }
 },
 "nbformat": 4,
 "nbformat_minor": 0
}
